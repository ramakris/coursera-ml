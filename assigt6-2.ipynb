{
 "cells": [
  {
   "cell_type": "code",
   "execution_count": 33,
   "metadata": {
    "collapsed": false
   },
   "outputs": [],
   "source": [
    "import graphlab\n",
    "image_train=graphlab.SFrame(\"/home/ramak/image_train_data/\")\n",
    "image_test=graphlab.SFrame(\"/home/ramak/image_test_data/\")"
   ]
  },
  {
   "cell_type": "code",
   "execution_count": 34,
   "metadata": {
    "collapsed": false
   },
   "outputs": [
    {
     "name": "stdout",
     "output_type": "stream",
     "text": [
      "['bird', 'cat', 'cat', 'dog', 'bird', 'automobile', 'dog', 'bird', 'automobile', 'bird', 'cat', 'dog', 'automobile', 'automobile', 'automobile', 'cat', 'bird', 'cat', 'cat', 'dog', 'dog', 'cat', 'automobile', 'dog', 'bird', 'dog', 'automobile', 'cat', 'bird', 'bird', 'cat', 'bird', 'dog', 'cat', 'dog', 'automobile', 'bird', 'automobile', 'bird', 'dog', 'dog', 'bird', 'cat', 'dog', 'dog', 'dog', 'automobile', 'bird', 'bird', 'automobile', 'automobile', 'bird', 'automobile', 'automobile', 'bird', 'bird', 'cat', 'automobile', 'cat', 'cat', 'bird', 'bird', 'bird', 'cat', 'bird', 'automobile', 'automobile', 'bird', 'cat', 'automobile', 'cat', 'cat', 'cat', 'bird', 'dog', 'cat', 'bird', 'dog', 'cat', 'bird', 'dog', 'automobile', 'automobile', 'dog', 'automobile', 'bird', 'cat', 'bird', 'dog', 'automobile', 'automobile', 'cat', 'bird', 'cat', 'automobile', 'automobile', 'dog', 'cat', 'dog', 'cat', ... ]\n"
     ]
    }
   ],
   "source": [
    "print image_train[\"label\"]"
   ]
  },
  {
   "cell_type": "code",
   "execution_count": 35,
   "metadata": {
    "collapsed": false
   },
   "outputs": [
    {
     "data": {
      "text/plain": [
       "graphlab.data_structures.sarray.SArray"
      ]
     },
     "execution_count": 35,
     "metadata": {},
     "output_type": "execute_result"
    }
   ],
   "source": [
    "type(image_train[\"label\"])"
   ]
  },
  {
   "cell_type": "code",
   "execution_count": 36,
   "metadata": {
    "collapsed": true
   },
   "outputs": [],
   "source": [
    "mysketch=graphlab.Sketch(image_train[\"label\"])"
   ]
  },
  {
   "cell_type": "code",
   "execution_count": 37,
   "metadata": {
    "collapsed": false
   },
   "outputs": [
    {
     "name": "stdout",
     "output_type": "stream",
     "text": [
      "\n",
      "+------------------+-------+----------+\n",
      "|       item       | value | is exact |\n",
      "+------------------+-------+----------+\n",
      "|      Length      |  2005 |   Yes    |\n",
      "| # Missing Values |   0   |   Yes    |\n",
      "| # unique values  |   4   |    No    |\n",
      "+------------------+-------+----------+\n",
      "\n",
      "Most frequent items:\n",
      "+-------+------------+-----+-----+------+\n",
      "| value | automobile | cat | dog | bird |\n",
      "+-------+------------+-----+-----+------+\n",
      "| count |    509     | 509 | 509 | 478  |\n",
      "+-------+------------+-----+-----+------+\n",
      "\n",
      "\n"
     ]
    }
   ],
   "source": [
    "print mysketch  ### Question 1"
   ]
  },
  {
   "cell_type": "code",
   "execution_count": 38,
   "metadata": {
    "collapsed": false
   },
   "outputs": [
    {
     "data": {
      "text/plain": [
       "<bound method Sketch.element_summary of \n",
       "+------------------+-------+----------+\n",
       "|       item       | value | is exact |\n",
       "+------------------+-------+----------+\n",
       "|      Length      |  2005 |   Yes    |\n",
       "| # Missing Values |   0   |   Yes    |\n",
       "| # unique values  |   4   |    No    |\n",
       "+------------------+-------+----------+\n",
       "\n",
       "Most frequent items:\n",
       "+-------+------------+-----+-----+------+\n",
       "| value | automobile | cat | dog | bird |\n",
       "+-------+------------+-----+-----+------+\n",
       "| count |    509     | 509 | 509 | 478  |\n",
       "+-------+------------+-----+-----+------+\n",
       "\n",
       ">"
      ]
     },
     "execution_count": 38,
     "metadata": {},
     "output_type": "execute_result"
    }
   ],
   "source": [
    "mysketch.element_summary"
   ]
  },
  {
   "cell_type": "code",
   "execution_count": 39,
   "metadata": {
    "collapsed": false
   },
   "outputs": [
    {
     "data": {
      "text/plain": [
       "<bound method Sketch.size of \n",
       "+------------------+-------+----------+\n",
       "|       item       | value | is exact |\n",
       "+------------------+-------+----------+\n",
       "|      Length      |  2005 |   Yes    |\n",
       "| # Missing Values |   0   |   Yes    |\n",
       "| # unique values  |   4   |    No    |\n",
       "+------------------+-------+----------+\n",
       "\n",
       "Most frequent items:\n",
       "+-------+------------+-----+-----+------+\n",
       "| value | automobile | cat | dog | bird |\n",
       "+-------+------------+-----+-----+------+\n",
       "| count |    509     | 509 | 509 | 478  |\n",
       "+-------+------------+-----+-----+------+\n",
       "\n",
       ">"
      ]
     },
     "execution_count": 39,
     "metadata": {},
     "output_type": "execute_result"
    }
   ],
   "source": [
    "mysketch.size\n"
   ]
  },
  {
   "cell_type": "code",
   "execution_count": 40,
   "metadata": {
    "collapsed": false
   },
   "outputs": [
    {
     "data": {
      "text/plain": [
       "<bound method Sketch.dict_key_summary of \n",
       "+------------------+-------+----------+\n",
       "|       item       | value | is exact |\n",
       "+------------------+-------+----------+\n",
       "|      Length      |  2005 |   Yes    |\n",
       "| # Missing Values |   0   |   Yes    |\n",
       "| # unique values  |   4   |    No    |\n",
       "+------------------+-------+----------+\n",
       "\n",
       "Most frequent items:\n",
       "+-------+------------+-----+-----+------+\n",
       "| value | automobile | cat | dog | bird |\n",
       "+-------+------------+-----+-----+------+\n",
       "| count |    509     | 509 | 509 | 478  |\n",
       "+-------+------------+-----+-----+------+\n",
       "\n",
       ">"
      ]
     },
     "execution_count": 40,
     "metadata": {},
     "output_type": "execute_result"
    }
   ],
   "source": [
    "mysketch.dict_key_summary"
   ]
  },
  {
   "cell_type": "code",
   "execution_count": null,
   "metadata": {
    "collapsed": true
   },
   "outputs": [],
   "source": []
  }
 ],
 "metadata": {
  "kernelspec": {
   "display_name": "Python 2",
   "language": "python",
   "name": "python2"
  },
  "language_info": {
   "codemirror_mode": {
    "name": "ipython",
    "version": 2
   },
   "file_extension": ".py",
   "mimetype": "text/x-python",
   "name": "python",
   "nbconvert_exporter": "python",
   "pygments_lexer": "ipython2",
   "version": "2.7.12"
  }
 },
 "nbformat": 4,
 "nbformat_minor": 0
}
