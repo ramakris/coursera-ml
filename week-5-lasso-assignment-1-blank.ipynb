{
 "cells": [
  {
   "cell_type": "markdown",
   "metadata": {},
   "source": [
    "# Regression Week 5: Feature Selection and LASSO (Interpretation)"
   ]
  },
  {
   "cell_type": "markdown",
   "metadata": {},
   "source": [
    "In this notebook, you will use LASSO to select features, building on a pre-implemented solver for LASSO (using GraphLab Create, though you can use other solvers). You will:\n",
    "* Run LASSO with different L1 penalties.\n",
    "* Choose best L1 penalty using a validation set.\n",
    "* Choose best L1 penalty using a validation set, with additional constraint on the size of subset.\n",
    "\n",
    "In the second notebook, you will implement your own LASSO solver, using coordinate descent. "
   ]
  },
  {
   "cell_type": "markdown",
   "metadata": {},
   "source": [
    "# Fire up graphlab create"
   ]
  },
  {
   "cell_type": "code",
   "execution_count": 29,
   "metadata": {
    "collapsed": false
   },
   "outputs": [],
   "source": [
    "import graphlab\n",
    "import numpy as np"
   ]
  },
  {
   "cell_type": "markdown",
   "metadata": {},
   "source": [
    "# Load in house sales data\n",
    "\n",
    "Dataset is from house sales in King County, the region where the city of Seattle, WA is located."
   ]
  },
  {
   "cell_type": "code",
   "execution_count": 30,
   "metadata": {
    "collapsed": false,
    "scrolled": true
   },
   "outputs": [],
   "source": [
    "sales = graphlab.SFrame('/home/ramak/kc_house_data.gl/')"
   ]
  },
  {
   "cell_type": "markdown",
   "metadata": {},
   "source": [
    "# Create new features"
   ]
  },
  {
   "cell_type": "markdown",
   "metadata": {},
   "source": [
    "As in Week 2, we consider features that are some transformations of inputs."
   ]
  },
  {
   "cell_type": "code",
   "execution_count": 31,
   "metadata": {
    "collapsed": true
   },
   "outputs": [],
   "source": [
    "from math import log, sqrt\n",
    "sales['sqft_living_sqrt'] = sales['sqft_living'].apply(sqrt)\n",
    "sales['sqft_lot_sqrt'] = sales['sqft_lot'].apply(sqrt)\n",
    "sales['bedrooms_square'] = sales['bedrooms']*sales['bedrooms']\n",
    "\n",
    "# In the dataset, 'floors' was defined with type string, \n",
    "# so we'll convert them to float, before creating a new feature.\n",
    "sales['floors'] = sales['floors'].astype(float) \n",
    "sales['floors_square'] = sales['floors']*sales['floors']"
   ]
  },
  {
   "cell_type": "markdown",
   "metadata": {},
   "source": [
    "* Squaring bedrooms will increase the separation between not many bedrooms (e.g. 1) and lots of bedrooms (e.g. 4) since 1^2 = 1 but 4^2 = 16. Consequently this variable will mostly affect houses with many bedrooms.\n",
    "* On the other hand, taking square root of sqft_living will decrease the separation between big house and small house. The owner may not be exactly twice as happy for getting a house that is twice as big."
   ]
  },
  {
   "cell_type": "markdown",
   "metadata": {},
   "source": [
    "# Learn regression weights with L1 penalty"
   ]
  },
  {
   "cell_type": "markdown",
   "metadata": {},
   "source": [
    "Let us fit a model with all the features available, plus the features we just created above."
   ]
  },
  {
   "cell_type": "code",
   "execution_count": 32,
   "metadata": {
    "collapsed": false
   },
   "outputs": [],
   "source": [
    "all_features = ['bedrooms', 'bedrooms_square',\n",
    "            'bathrooms',\n",
    "            'sqft_living', 'sqft_living_sqrt',\n",
    "            'sqft_lot', 'sqft_lot_sqrt',\n",
    "            'floors', 'floors_square',\n",
    "            'waterfront', 'view', 'condition', 'grade',\n",
    "            'sqft_above',\n",
    "            'sqft_basement',\n",
    "            'yr_built', 'yr_renovated']"
   ]
  },
  {
   "cell_type": "markdown",
   "metadata": {},
   "source": [
    "Applying L1 penalty requires adding an extra parameter (`l1_penalty`) to the linear regression call in GraphLab Create. (Other tools may have separate implementations of LASSO.)  Note that it's important to set `l2_penalty=0` to ensure we don't introduce an additional L2 penalty."
   ]
  },
  {
   "cell_type": "code",
   "execution_count": 33,
   "metadata": {
    "collapsed": false
   },
   "outputs": [
    {
     "data": {
      "text/html": [
       "<pre>Linear regression:</pre>"
      ],
      "text/plain": [
       "Linear regression:"
      ]
     },
     "metadata": {},
     "output_type": "display_data"
    },
    {
     "data": {
      "text/html": [
       "<pre>--------------------------------------------------------</pre>"
      ],
      "text/plain": [
       "--------------------------------------------------------"
      ]
     },
     "metadata": {},
     "output_type": "display_data"
    },
    {
     "data": {
      "text/html": [
       "<pre>Number of examples          : 21613</pre>"
      ],
      "text/plain": [
       "Number of examples          : 21613"
      ]
     },
     "metadata": {},
     "output_type": "display_data"
    },
    {
     "data": {
      "text/html": [
       "<pre>Number of features          : 17</pre>"
      ],
      "text/plain": [
       "Number of features          : 17"
      ]
     },
     "metadata": {},
     "output_type": "display_data"
    },
    {
     "data": {
      "text/html": [
       "<pre>Number of unpacked features : 17</pre>"
      ],
      "text/plain": [
       "Number of unpacked features : 17"
      ]
     },
     "metadata": {},
     "output_type": "display_data"
    },
    {
     "data": {
      "text/html": [
       "<pre>Number of coefficients    : 18</pre>"
      ],
      "text/plain": [
       "Number of coefficients    : 18"
      ]
     },
     "metadata": {},
     "output_type": "display_data"
    },
    {
     "data": {
      "text/html": [
       "<pre>Starting Accelerated Gradient (FISTA)</pre>"
      ],
      "text/plain": [
       "Starting Accelerated Gradient (FISTA)"
      ]
     },
     "metadata": {},
     "output_type": "display_data"
    },
    {
     "data": {
      "text/html": [
       "<pre>--------------------------------------------------------</pre>"
      ],
      "text/plain": [
       "--------------------------------------------------------"
      ]
     },
     "metadata": {},
     "output_type": "display_data"
    },
    {
     "data": {
      "text/html": [
       "<pre>+-----------+----------+-----------+--------------+--------------------+---------------+</pre>"
      ],
      "text/plain": [
       "+-----------+----------+-----------+--------------+--------------------+---------------+"
      ]
     },
     "metadata": {},
     "output_type": "display_data"
    },
    {
     "data": {
      "text/html": [
       "<pre>| Iteration | Passes   | Step size | Elapsed Time | Training-max_error | Training-rmse |</pre>"
      ],
      "text/plain": [
       "| Iteration | Passes   | Step size | Elapsed Time | Training-max_error | Training-rmse |"
      ]
     },
     "metadata": {},
     "output_type": "display_data"
    },
    {
     "data": {
      "text/html": [
       "<pre>+-----------+----------+-----------+--------------+--------------------+---------------+</pre>"
      ],
      "text/plain": [
       "+-----------+----------+-----------+--------------+--------------------+---------------+"
      ]
     },
     "metadata": {},
     "output_type": "display_data"
    },
    {
     "data": {
      "text/html": [
       "<pre>Tuning step size. First iteration could take longer than subsequent iterations.</pre>"
      ],
      "text/plain": [
       "Tuning step size. First iteration could take longer than subsequent iterations."
      ]
     },
     "metadata": {},
     "output_type": "display_data"
    },
    {
     "data": {
      "text/html": [
       "<pre>| 1         | 2        | 0.000002  | 0.266419     | 6962915.603493     | 426631.749026 |</pre>"
      ],
      "text/plain": [
       "| 1         | 2        | 0.000002  | 0.266419     | 6962915.603493     | 426631.749026 |"
      ]
     },
     "metadata": {},
     "output_type": "display_data"
    },
    {
     "data": {
      "text/html": [
       "<pre>| 2         | 3        | 0.000002  | 0.288445     | 6843144.200219     | 392488.929838 |</pre>"
      ],
      "text/plain": [
       "| 2         | 3        | 0.000002  | 0.288445     | 6843144.200219     | 392488.929838 |"
      ]
     },
     "metadata": {},
     "output_type": "display_data"
    },
    {
     "data": {
      "text/html": [
       "<pre>| 3         | 4        | 0.000002  | 0.324465     | 6831900.032123     | 385340.166783 |</pre>"
      ],
      "text/plain": [
       "| 3         | 4        | 0.000002  | 0.324465     | 6831900.032123     | 385340.166783 |"
      ]
     },
     "metadata": {},
     "output_type": "display_data"
    },
    {
     "data": {
      "text/html": [
       "<pre>| 4         | 5        | 0.000002  | 0.350321     | 6847166.848958     | 384842.383767 |</pre>"
      ],
      "text/plain": [
       "| 4         | 5        | 0.000002  | 0.350321     | 6847166.848958     | 384842.383767 |"
      ]
     },
     "metadata": {},
     "output_type": "display_data"
    },
    {
     "data": {
      "text/html": [
       "<pre>| 5         | 6        | 0.000002  | 0.381030     | 6869667.895833     | 385998.458623 |</pre>"
      ],
      "text/plain": [
       "| 5         | 6        | 0.000002  | 0.381030     | 6869667.895833     | 385998.458623 |"
      ]
     },
     "metadata": {},
     "output_type": "display_data"
    },
    {
     "data": {
      "text/html": [
       "<pre>| 6         | 7        | 0.000002  | 0.408794     | 6847177.773672     | 380824.455891 |</pre>"
      ],
      "text/plain": [
       "| 6         | 7        | 0.000002  | 0.408794     | 6847177.773672     | 380824.455891 |"
      ]
     },
     "metadata": {},
     "output_type": "display_data"
    },
    {
     "data": {
      "text/html": [
       "<pre>+-----------+----------+-----------+--------------+--------------------+---------------+</pre>"
      ],
      "text/plain": [
       "+-----------+----------+-----------+--------------+--------------------+---------------+"
      ]
     },
     "metadata": {},
     "output_type": "display_data"
    }
   ],
   "source": [
    "model_all = graphlab.linear_regression.create(sales, target='price', features=all_features,\n",
    "                                              validation_set=None, \n",
    "                                              l2_penalty=0., l1_penalty=1e10)"
   ]
  },
  {
   "cell_type": "markdown",
   "metadata": {},
   "source": [
    "Find what features had non-zero weight."
   ]
  },
  {
   "cell_type": "code",
   "execution_count": 34,
   "metadata": {
    "collapsed": false
   },
   "outputs": [
    {
     "data": {
      "text/html": [
       "<pre>TERMINATED: Iteration limit reached.</pre>"
      ],
      "text/plain": [
       "TERMINATED: Iteration limit reached."
      ]
     },
     "metadata": {},
     "output_type": "display_data"
    },
    {
     "data": {
      "text/html": [
       "<pre>This model may not be optimal. To improve it, consider increasing `max_iterations`.</pre>"
      ],
      "text/plain": [
       "This model may not be optimal. To improve it, consider increasing `max_iterations`."
      ]
     },
     "metadata": {},
     "output_type": "display_data"
    },
    {
     "name": "stdout",
     "output_type": "stream",
     "text": [
      "+------------------+-------+---------------+--------+\n",
      "|       name       | index |     value     | stderr |\n",
      "+------------------+-------+---------------+--------+\n",
      "|   (intercept)    |  None |  274873.05595 |  None  |\n",
      "|     bedrooms     |  None |      0.0      |  None  |\n",
      "| bedrooms_square  |  None |      0.0      |  None  |\n",
      "|    bathrooms     |  None | 8468.53108691 |  None  |\n",
      "|   sqft_living    |  None | 24.4207209824 |  None  |\n",
      "| sqft_living_sqrt |  None | 350.060553386 |  None  |\n",
      "|     sqft_lot     |  None |      0.0      |  None  |\n",
      "|  sqft_lot_sqrt   |  None |      0.0      |  None  |\n",
      "|      floors      |  None |      0.0      |  None  |\n",
      "|  floors_square   |  None |      0.0      |  None  |\n",
      "+------------------+-------+---------------+--------+\n",
      "[18 rows x 4 columns]\n",
      "Note: Only the head of the SFrame is printed.\n",
      "You can use print_rows(num_rows=m, num_columns=n) to print more rows and columns.\n"
     ]
    }
   ],
   "source": [
    "print model_all[\"coefficients\"]"
   ]
  },
  {
   "cell_type": "code",
   "execution_count": 35,
   "metadata": {
    "collapsed": false
   },
   "outputs": [
    {
     "name": "stdout",
     "output_type": "stream",
     "text": [
      "2.86685580816e+15\n"
     ]
    }
   ],
   "source": [
    "predictions=model_all.predict(sales)\n",
    "rss=((predictions - sales['price'])**2).sum()\n",
    "print rss"
   ]
  },
  {
   "cell_type": "code",
   "execution_count": null,
   "metadata": {
    "collapsed": true
   },
   "outputs": [],
   "source": []
  },
  {
   "cell_type": "markdown",
   "metadata": {},
   "source": [
    "Note that a majority of the weights have been set to zero. So by setting an L1 penalty that's large enough, we are performing a subset selection. \n",
    "\n",
    "***QUIZ QUESTION***:\n",
    "            According to this list of weights, which of the features have been chosen? *** ANSWERS:bathrooms,sqft_living,sqft_living_sqrt"
   ]
  },
  {
   "cell_type": "markdown",
   "metadata": {},
   "source": [
    "# Selecting an L1 penalty"
   ]
  },
  {
   "cell_type": "markdown",
   "metadata": {},
   "source": [
    "To find a good L1 penalty, we will explore multiple values using a validation set. Let us do three way split into train, validation, and test sets:\n",
    "* Split our sales data into 2 sets: training and test\n",
    "* Further split our training data into two sets: train, validation\n",
    "\n",
    "Be *very* careful that you use seed = 1 to ensure you get the same answer!"
   ]
  },
  {
   "cell_type": "code",
   "execution_count": 36,
   "metadata": {
    "collapsed": false
   },
   "outputs": [],
   "source": [
    "(training_and_validation, testing) = sales.random_split(.9,seed=1) # initial train/test split\n",
    "(training, validation) = training_and_validation.random_split(0.5, seed=1) # split training into train and validate"
   ]
  },
  {
   "cell_type": "markdown",
   "metadata": {},
   "source": [
    "Next, we write a loop that does the following:\n",
    "* For `l1_penalty` in [10^1, 10^1.5, 10^2, 10^2.5, ..., 10^7] (to get this in Python, type `np.logspace(1, 7, num=13)`.)\n",
    "    * Fit a regression model with a given `l1_penalty` on TRAIN data. Specify `l1_penalty=l1_penalty` and `l2_penalty=0.` in the parameter list.\n",
    "    * Compute the RSS on VALIDATION data (here you will want to use `.predict()`) for that `l1_penalty`\n",
    "* Report which `l1_penalty` produced the lowest RSS on validation data.\n",
    "\n",
    "When you call `linear_regression.create()` make sure you set `validation_set = None`.\n",
    "\n",
    "Note: you can turn off the print out of `linear_regression.create()` with `verbose = False`"
   ]
  },
  {
   "cell_type": "code",
   "execution_count": null,
   "metadata": {
    "collapsed": false
   },
   "outputs": [],
   "source": []
  },
  {
   "cell_type": "code",
   "execution_count": 37,
   "metadata": {
    "collapsed": false
   },
   "outputs": [],
   "source": [
    "l1_penalty=np.logspace(1,7,num=13)"
   ]
  },
  {
   "cell_type": "code",
   "execution_count": 38,
   "metadata": {
    "collapsed": false
   },
   "outputs": [
    {
     "name": "stdout",
     "output_type": "stream",
     "text": [
      "[  1.00000000e+01   3.16227766e+01   1.00000000e+02   3.16227766e+02\n",
      "   1.00000000e+03   3.16227766e+03   1.00000000e+04   3.16227766e+04\n",
      "   1.00000000e+05   3.16227766e+05   1.00000000e+06   3.16227766e+06\n",
      "   1.00000000e+07]\n"
     ]
    }
   ],
   "source": [
    "print l1_penalty"
   ]
  },
  {
   "cell_type": "code",
   "execution_count": 39,
   "metadata": {
    "collapsed": false
   },
   "outputs": [
    {
     "name": "stdout",
     "output_type": "stream",
     "text": [
      "+------------------+-------+------------------+--------+\n",
      "|       name       | index |      value       | stderr |\n",
      "+------------------+-------+------------------+--------+\n",
      "|   (intercept)    |  None |  18993.4272128   |  None  |\n",
      "|     bedrooms     |  None |  7936.96767903   |  None  |\n",
      "| bedrooms_square  |  None |  936.993368193   |  None  |\n",
      "|    bathrooms     |  None |  25409.5889341   |  None  |\n",
      "|   sqft_living    |  None |  39.1151363797   |  None  |\n",
      "| sqft_living_sqrt |  None |  1124.65021281   |  None  |\n",
      "|     sqft_lot     |  None | 0.00348361822299 |  None  |\n",
      "|  sqft_lot_sqrt   |  None |  148.258391011   |  None  |\n",
      "|      floors      |  None |   21204.335467   |  None  |\n",
      "|  floors_square   |  None |  12915.5243361   |  None  |\n",
      "+------------------+-------+------------------+--------+\n",
      "[18 rows x 4 columns]\n",
      "Note: Only the head of the SFrame is printed.\n",
      "You can use print_rows(num_rows=m, num_columns=n) to print more rows and columns.\n",
      "-----------------Model Completed ------------------------------\n",
      "+------------------+-------+------------------+--------+\n",
      "|       name       | index |      value       | stderr |\n",
      "+------------------+-------+------------------+--------+\n",
      "|   (intercept)    |  None |  18993.4285345   |  None  |\n",
      "|     bedrooms     |  None |  7936.96764801   |  None  |\n",
      "| bedrooms_square  |  None |   936.99334899   |  None  |\n",
      "|    bathrooms     |  None |  25409.5888977   |  None  |\n",
      "|   sqft_living    |  None |  39.1151363649   |  None  |\n",
      "| sqft_living_sqrt |  None |   1124.6502113   |  None  |\n",
      "|     sqft_lot     |  None | 0.00348360549025 |  None  |\n",
      "|  sqft_lot_sqrt   |  None |  148.258390148   |  None  |\n",
      "|      floors      |  None |  21204.3353589   |  None  |\n",
      "|  floors_square   |  None |  12915.5242399   |  None  |\n",
      "+------------------+-------+------------------+--------+\n",
      "[18 rows x 4 columns]\n",
      "Note: Only the head of the SFrame is printed.\n",
      "You can use print_rows(num_rows=m, num_columns=n) to print more rows and columns.\n",
      "-----------------Model Completed ------------------------------\n",
      "+------------------+-------+-----------------+--------+\n",
      "|       name       | index |      value      | stderr |\n",
      "+------------------+-------+-----------------+--------+\n",
      "|   (intercept)    |  None |  18993.4327144  |  None  |\n",
      "|     bedrooms     |  None |   7936.9675499  |  None  |\n",
      "| bedrooms_square  |  None |  936.993288262  |  None  |\n",
      "|    bathrooms     |  None |  25409.5887825  |  None  |\n",
      "|   sqft_living    |  None |  39.1151363182  |  None  |\n",
      "| sqft_living_sqrt |  None |  1124.65020653  |  None  |\n",
      "|     sqft_lot     |  None | 0.0034835652258 |  None  |\n",
      "|  sqft_lot_sqrt   |  None |  148.258387417  |  None  |\n",
      "|      floors      |  None |  21204.3350171  |  None  |\n",
      "|  floors_square   |  None |  12915.5239357  |  None  |\n",
      "+------------------+-------+-----------------+--------+\n",
      "[18 rows x 4 columns]\n",
      "Note: Only the head of the SFrame is printed.\n",
      "You can use print_rows(num_rows=m, num_columns=n) to print more rows and columns.\n",
      "-----------------Model Completed ------------------------------\n",
      "+------------------+-------+------------------+--------+\n",
      "|       name       | index |      value       | stderr |\n",
      "+------------------+-------+------------------+--------+\n",
      "|   (intercept)    |  None |  18993.4459322   |  None  |\n",
      "|     bedrooms     |  None |  7936.96723967   |  None  |\n",
      "| bedrooms_square  |  None |  936.993096225   |  None  |\n",
      "|    bathrooms     |  None |  25409.5884183   |  None  |\n",
      "|   sqft_living    |  None |  39.1151361705   |  None  |\n",
      "| sqft_living_sqrt |  None |  1124.65019144   |  None  |\n",
      "|     sqft_lot     |  None | 0.00348343789842 |  None  |\n",
      "|  sqft_lot_sqrt   |  None |  148.258378783   |  None  |\n",
      "|      floors      |  None |  21204.3339364   |  None  |\n",
      "|  floors_square   |  None |  12915.5229739   |  None  |\n",
      "+------------------+-------+------------------+--------+\n",
      "[18 rows x 4 columns]\n",
      "Note: Only the head of the SFrame is printed.\n",
      "You can use print_rows(num_rows=m, num_columns=n) to print more rows and columns.\n",
      "-----------------Model Completed ------------------------------\n",
      "+------------------+-------+------------------+--------+\n",
      "|       name       | index |      value       | stderr |\n",
      "+------------------+-------+------------------+--------+\n",
      "|   (intercept)    |  None |  18993.4877305   |  None  |\n",
      "|     bedrooms     |  None |  7936.96625863   |  None  |\n",
      "| bedrooms_square  |  None |  936.992488952   |  None  |\n",
      "|    bathrooms     |  None |  25409.5872664   |  None  |\n",
      "|   sqft_living    |  None |  39.1151357034   |  None  |\n",
      "| sqft_living_sqrt |  None |  1124.65014372   |  None  |\n",
      "|     sqft_lot     |  None | 0.00348303525386 |  None  |\n",
      "|  sqft_lot_sqrt   |  None |  148.258351477   |  None  |\n",
      "|      floors      |  None |  21204.3305187   |  None  |\n",
      "|  floors_square   |  None |  12915.5199324   |  None  |\n",
      "+------------------+-------+------------------+--------+\n",
      "[18 rows x 4 columns]\n",
      "Note: Only the head of the SFrame is printed.\n",
      "You can use print_rows(num_rows=m, num_columns=n) to print more rows and columns.\n",
      "-----------------Model Completed ------------------------------\n",
      "+------------------+-------+------------------+--------+\n",
      "|       name       | index |      value       | stderr |\n",
      "+------------------+-------+------------------+--------+\n",
      "|   (intercept)    |  None |  18993.6199083   |  None  |\n",
      "|     bedrooms     |  None |  7936.96315631   |  None  |\n",
      "| bedrooms_square  |  None |  936.990568583   |  None  |\n",
      "|    bathrooms     |  None |  25409.5836239   |  None  |\n",
      "|   sqft_living    |  None |  39.1151342262   |  None  |\n",
      "| sqft_living_sqrt |  None |  1124.64999282   |  None  |\n",
      "|     sqft_lot     |  None | 0.00348176198003 |  None  |\n",
      "|  sqft_lot_sqrt   |  None |  148.258265129   |  None  |\n",
      "|      floors      |  None |  21204.3197113   |  None  |\n",
      "|  floors_square   |  None |  12915.5103143   |  None  |\n",
      "+------------------+-------+------------------+--------+\n",
      "[18 rows x 4 columns]\n",
      "Note: Only the head of the SFrame is printed.\n",
      "You can use print_rows(num_rows=m, num_columns=n) to print more rows and columns.\n",
      "-----------------Model Completed ------------------------------\n",
      "+------------------+-------+------------------+--------+\n",
      "|       name       | index |      value       | stderr |\n",
      "+------------------+-------+------------------+--------+\n",
      "|   (intercept)    |  None |  18994.0378912   |  None  |\n",
      "|     bedrooms     |  None |  7936.95334592   |  None  |\n",
      "| bedrooms_square  |  None |  936.984495845   |  None  |\n",
      "|    bathrooms     |  None |  25409.5721055   |  None  |\n",
      "|   sqft_living    |  None |   39.115129555   |  None  |\n",
      "| sqft_living_sqrt |  None |  1124.64951563   |  None  |\n",
      "|     sqft_lot     |  None | 0.00347773553446 |  None  |\n",
      "|  sqft_lot_sqrt   |  None |  148.257992074   |  None  |\n",
      "|      floors      |  None |   21204.285535   |  None  |\n",
      "|  floors_square   |  None |  12915.4798991   |  None  |\n",
      "+------------------+-------+------------------+--------+\n",
      "[18 rows x 4 columns]\n",
      "Note: Only the head of the SFrame is printed.\n",
      "You can use print_rows(num_rows=m, num_columns=n) to print more rows and columns.\n",
      "-----------------Model Completed ------------------------------\n",
      "+------------------+-------+-----------------+--------+\n",
      "|       name       | index |      value      | stderr |\n",
      "+------------------+-------+-----------------+--------+\n",
      "|   (intercept)    |  None |  18995.3596694  |  None  |\n",
      "|     bedrooms     |  None |  7936.92232272  |  None  |\n",
      "| bedrooms_square  |  None |  936.965292161  |  None  |\n",
      "|    bathrooms     |  None |  25409.5356808  |  None  |\n",
      "|   sqft_living    |  None |  39.1151147834  |  None  |\n",
      "| sqft_living_sqrt |  None |  1124.64800663  |  None  |\n",
      "|     sqft_lot     |  None | 0.0034650027953 |  None  |\n",
      "|  sqft_lot_sqrt   |  None |  148.257128596  |  None  |\n",
      "|      floors      |  None |  21204.1774601  |  None  |\n",
      "|  floors_square   |  None |  12915.3837177  |  None  |\n",
      "+------------------+-------+-----------------+--------+\n",
      "[18 rows x 4 columns]\n",
      "Note: Only the head of the SFrame is printed.\n",
      "You can use print_rows(num_rows=m, num_columns=n) to print more rows and columns.\n",
      "-----------------Model Completed ------------------------------\n",
      "+------------------+-------+------------------+--------+\n",
      "|       name       | index |      value       | stderr |\n",
      "+------------------+-------+------------------+--------+\n",
      "|   (intercept)    |  None |   18999.539499   |  None  |\n",
      "|     bedrooms     |  None |  7936.82421875   |  None  |\n",
      "| bedrooms_square  |  None |  936.904564783   |  None  |\n",
      "|    bathrooms     |  None |  25409.4204959   |  None  |\n",
      "|   sqft_living    |  None |  39.1150680714   |  None  |\n",
      "| sqft_living_sqrt |  None |  1124.64323476   |  None  |\n",
      "|     sqft_lot     |  None | 0.00342473834052 |  None  |\n",
      "|  sqft_lot_sqrt   |  None |  148.254398041   |  None  |\n",
      "|      floors      |  None |  21203.8356975   |  None  |\n",
      "|  floors_square   |  None |  12915.0795655   |  None  |\n",
      "+------------------+-------+------------------+--------+\n",
      "[18 rows x 4 columns]\n",
      "Note: Only the head of the SFrame is printed.\n",
      "You can use print_rows(num_rows=m, num_columns=n) to print more rows and columns.\n",
      "-----------------Model Completed ------------------------------\n",
      "+------------------+-------+------------------+--------+\n",
      "|       name       | index |      value       | stderr |\n",
      "+------------------+-------+------------------+--------+\n",
      "|   (intercept)    |  None |  19012.7572816   |  None  |\n",
      "|     bedrooms     |  None |  7936.51398675   |  None  |\n",
      "| bedrooms_square  |  None |  936.712527935   |  None  |\n",
      "|    bathrooms     |  None |  25409.0562492   |  None  |\n",
      "|   sqft_living    |  None |  39.1149203552   |  None  |\n",
      "| sqft_living_sqrt |  None |  1124.62814478   |  None  |\n",
      "|     sqft_lot     |  None | 0.00329741094431 |  None  |\n",
      "|  sqft_lot_sqrt   |  None |  148.245763265   |  None  |\n",
      "|      floors      |  None |   21202.754949   |  None  |\n",
      "|  floors_square   |  None |  12914.1177518   |  None  |\n",
      "+------------------+-------+------------------+--------+\n",
      "[18 rows x 4 columns]\n",
      "Note: Only the head of the SFrame is printed.\n",
      "You can use print_rows(num_rows=m, num_columns=n) to print more rows and columns.\n",
      "-----------------Model Completed ------------------------------\n",
      "+------------------+-------+------------------+--------+\n",
      "|       name       | index |      value       | stderr |\n",
      "+------------------+-------+------------------+--------+\n",
      "|   (intercept)    |  None |  19054.5555764   |  None  |\n",
      "|     bedrooms     |  None |  7935.53294712   |  None  |\n",
      "| bedrooms_square  |  None |  936.105254156   |  None  |\n",
      "|    bathrooms     |  None |  25407.9044002   |  None  |\n",
      "|   sqft_living    |  None |  39.1144532356   |  None  |\n",
      "| sqft_living_sqrt |  None |  1124.58042608   |  None  |\n",
      "|     sqft_lot     |  None | 0.00289476640108 |  None  |\n",
      "|  sqft_lot_sqrt   |  None |  148.218457709   |  None  |\n",
      "|      floors      |  None |  21199.3373226   |  None  |\n",
      "|  floors_square   |  None |  12911.0762302   |  None  |\n",
      "+------------------+-------+------------------+--------+\n",
      "[18 rows x 4 columns]\n",
      "Note: Only the head of the SFrame is printed.\n",
      "You can use print_rows(num_rows=m, num_columns=n) to print more rows and columns.\n",
      "-----------------Model Completed ------------------------------\n",
      "+------------------+-------+------------------+--------+\n",
      "|       name       | index |      value       | stderr |\n",
      "+------------------+-------+------------------+--------+\n",
      "|   (intercept)    |  None |  19186.7333988   |  None  |\n",
      "|     bedrooms     |  None |   7932.4306272   |  None  |\n",
      "| bedrooms_square  |  None |   934.18488573   |  None  |\n",
      "|    bathrooms     |  None |  25404.2619334   |  None  |\n",
      "|   sqft_living    |  None |  39.1129760734   |  None  |\n",
      "| sqft_living_sqrt |  None |  1124.42952628   |  None  |\n",
      "|     sqft_lot     |  None | 0.00162149247578 |  None  |\n",
      "|  sqft_lot_sqrt   |  None |  148.132109954   |  None  |\n",
      "|      floors      |  None |  21188.5298383   |  None  |\n",
      "|  floors_square   |  None |  12901.4580936   |  None  |\n",
      "+------------------+-------+------------------+--------+\n",
      "[18 rows x 4 columns]\n",
      "Note: Only the head of the SFrame is printed.\n",
      "You can use print_rows(num_rows=m, num_columns=n) to print more rows and columns.\n",
      "-----------------Model Completed ------------------------------\n",
      "+------------------+-------+--------------------+--------+\n",
      "|       name       | index |       value        | stderr |\n",
      "+------------------+-------+--------------------+--------+\n",
      "|   (intercept)    |  None |   19604.7163508    |  None  |\n",
      "|     bedrooms     |  None |   7922.62023075    |  None  |\n",
      "| bedrooms_square  |  None |   928.112147889    |  None  |\n",
      "|    bathrooms     |  None |    25392.743443    |  None  |\n",
      "|   sqft_living    |  None |   39.1083048767    |  None  |\n",
      "| sqft_living_sqrt |  None |   1123.95233925    |  None  |\n",
      "|     sqft_lot     |  None | -0.000823987151992 |  None  |\n",
      "|  sqft_lot_sqrt   |  None |   147.859054391    |  None  |\n",
      "|      floors      |  None |    21154.353574    |  None  |\n",
      "|  floors_square   |  None |    12871.042877    |  None  |\n",
      "+------------------+-------+--------------------+--------+\n",
      "[18 rows x 4 columns]\n",
      "Note: Only the head of the SFrame is printed.\n",
      "You can use print_rows(num_rows=m, num_columns=n) to print more rows and columns.\n",
      "-----------------Model Completed ------------------------------\n",
      "############################################################\n",
      "Minimum RSS 6.25766285142e+14\n",
      "Penalty 10.0\n",
      "Model Class                          : LinearRegression\n",
      "\n",
      "Schema\n",
      "------\n",
      "Number of coefficients         : 18\n",
      "Number of examples             : 9761\n",
      "Number of feature columns      : 17\n",
      "Number of unpacked features    : 17\n",
      "\n",
      "Hyperparameters\n",
      "---------------\n",
      "L1 penalty                     : 10.0\n",
      "L2 penalty                     : 0.0\n",
      "\n",
      "Training Summary\n",
      "----------------\n",
      "Solver                         : fista\n",
      "Solver iterations              : 10\n",
      "Solver status                  : TERMINATED: Iteration limit reached.\n",
      "Training time (sec)            : 0.2527\n",
      "\n",
      "Settings\n",
      "--------\n",
      "Residual sum of squares        : 7.22122268408e+14\n",
      "Training RMSE                  : 271993.3039\n",
      "\n",
      "Highest Positive Coefficients\n",
      "-----------------------------\n",
      "waterfront                     : 601905.5945\n",
      "view                           : 93312.8573\n",
      "bathrooms                      : 25409.5889\n",
      "floors                         : 21204.3355\n",
      "(intercept)                    : 18993.4272\n",
      "\n",
      "Lowest Negative Coefficients\n",
      "----------------------------\n",
      "No Negative Coefficients       : \n",
      "\n"
     ]
    }
   ],
   "source": [
    "modelBest=None\n",
    "l1=None\n",
    "minRSS=1e25\n",
    "for penalty in l1_penalty:\n",
    "    model=graphlab.linear_regression.create(training, target='price', features=all_features,validation_set=None, l2_penalty=0.,l1_penalty=penalty,verbose=False)\n",
    "    print model[\"coefficients\"]\n",
    "    #print model.summary()\n",
    "    predicted=model.predict(validation)\n",
    "    rss = ((predicted - validation['price'])**2).sum()\n",
    "    if rss < minRSS:\n",
    "        minRSS=rss\n",
    "        modelBest=model\n",
    "        l1=penalty\n",
    "    print \"-----------------Model Completed ------------------------------\"\n",
    "print \"############################################################\"\n",
    "print \"Minimum RSS\" , minRSS\n",
    "print \"Penalty\" ,l1\n",
    "print \"Model\" , modelBest\n",
    "    \n",
    "    \n",
    "    \n",
    "    \n",
    "    \n",
    "    "
   ]
  },
  {
   "cell_type": "markdown",
   "metadata": {},
   "source": [
    "*** QUIZ QUESTIONS ***\n",
    "1. What was the best value for the `l1_penalty`?\n",
    "2. What is the RSS on TEST data of the model with the best `l1_penalty`?"
   ]
  },
  {
   "cell_type": "code",
   "execution_count": null,
   "metadata": {
    "collapsed": false
   },
   "outputs": [],
   "source": [
    "##Residual sum of squares        : 7.22122268408e+14\n",
    "##Training RMSE                  : 271993.3039"
   ]
  },
  {
   "cell_type": "markdown",
   "metadata": {},
   "source": [
    "***QUIZ QUESTION***\n",
    "Also, using this value of L1 penalty, how many nonzero weights do you have?"
   ]
  },
  {
   "cell_type": "code",
   "execution_count": null,
   "metadata": {
    "collapsed": false
   },
   "outputs": [],
   "source": [
    "#18"
   ]
  },
  {
   "cell_type": "markdown",
   "metadata": {},
   "source": [
    "# Limit the number of nonzero weights\n",
    "\n",
    "What if we absolutely wanted to limit ourselves to, say, 7 features? This may be important if we want to derive \"a rule of thumb\" --- an interpretable model that has only a few features in them."
   ]
  },
  {
   "cell_type": "markdown",
   "metadata": {},
   "source": [
    "In this section, you are going to implement a simple, two phase procedure to achive this goal:\n",
    "1. Explore a large range of `l1_penalty` values to find a narrow region of `l1_penalty` values where models are likely to have the desired number of non-zero weights.\n",
    "2. Further explore the narrow region you found to find a good value for `l1_penalty` that achieves the desired sparsity.  Here, we will again use a validation set to choose the best value for `l1_penalty`."
   ]
  },
  {
   "cell_type": "code",
   "execution_count": 40,
   "metadata": {
    "collapsed": true
   },
   "outputs": [],
   "source": [
    "max_nonzeros = 7"
   ]
  },
  {
   "cell_type": "markdown",
   "metadata": {},
   "source": [
    "## Exploring the larger range of values to find a narrow range with the desired sparsity\n",
    "\n",
    "Let's define a wide range of possible `l1_penalty_values`:"
   ]
  },
  {
   "cell_type": "code",
   "execution_count": 54,
   "metadata": {
    "collapsed": false
   },
   "outputs": [
    {
     "name": "stdout",
     "output_type": "stream",
     "text": [
      "Minimum lambda 2976351441.63\n",
      "Maximum lambda 3792690190.73\n"
     ]
    }
   ],
   "source": [
    "flag=True\n",
    "prefNonzeros = 7\n",
    "l1_penalty_min = None\n",
    "l1_penalty_max = None\n",
    "for penalty in np.logspace(8, 10, num=20):\n",
    "    model=graphlab.linear_regression.create(training, target='price', features=all_features,validation_set=None, l2_penalty=0.,l1_penalty=penalty,verbose=False)\n",
    "    nonZeros = model['coefficients']['value'].nnz()\n",
    "    if nonZeros > prefNonzeros:\n",
    "        l1_penalty_min = penalty\n",
    "    if (nonZeros < prefNonzeros and flag):\n",
    "        l1_penalty_max = penalty\n",
    "        flag = False\n",
    "print 'Minimum lambda', l1_penalty_min\n",
    "print 'Maximum lambda', l1_penalty_max\n",
    "\n",
    "        \n",
    "    \n",
    "    \n",
    " "
   ]
  },
  {
   "cell_type": "markdown",
   "metadata": {},
   "source": [
    "Now, implement a loop that search through this space of possible `l1_penalty` values:\n",
    "\n",
    "* For `l1_penalty` in `np.logspace(8, 10, num=20)`:\n",
    "    * Fit a regression model with a given `l1_penalty` on TRAIN data. Specify `l1_penalty=l1_penalty` and `l2_penalty=0.` in the parameter list. When you call `linear_regression.create()` make sure you set `validation_set = None`\n",
    "    * Extract the weights of the model and count the number of nonzeros. Save the number of nonzeros to a list.\n",
    "        * *Hint: `model['coefficients']['value']` gives you an SArray with the parameters you learned.  If you call the method `.nnz()` on it, you will find the number of non-zero parameters!* "
   ]
  },
  {
   "cell_type": "code",
   "execution_count": null,
   "metadata": {
    "collapsed": true
   },
   "outputs": [],
   "source": []
  },
  {
   "cell_type": "markdown",
   "metadata": {},
   "source": [
    "Out of this large range, we want to find the two ends of our desired narrow range of `l1_penalty`.  At one end, we will have `l1_penalty` values that have too few non-zeros, and at the other end, we will have an `l1_penalty` that has too many non-zeros.  \n",
    "\n",
    "More formally, find:\n",
    "* The largest `l1_penalty` that has more non-zeros than `max_nonzero` (if we pick a penalty smaller than this value, we will definitely have too many non-zero weights)\n",
    "    * Store this value in the variable `l1_penalty_min` (we will use it later)\n",
    "* The smallest `l1_penalty` that has fewer non-zeros than `max_nonzero` (if we pick a penalty larger than this value, we will definitely have too few non-zero weights)\n",
    "    * Store this value in the variable `l1_penalty_max` (we will use it later)\n",
    "\n",
    "\n",
    "*Hint: there are many ways to do this, e.g.:*\n",
    "* Programmatically within the loop above\n",
    "* Creating a list with the number of non-zeros for each value of `l1_penalty` and inspecting it to find the appropriate boundaries."
   ]
  },
  {
   "cell_type": "code",
   "execution_count": null,
   "metadata": {
    "collapsed": false
   },
   "outputs": [],
   "source": []
  },
  {
   "cell_type": "markdown",
   "metadata": {},
   "source": [
    "***QUIZ QUESTIONS***\n",
    "\n",
    "What values did you find for `l1_penalty_min` and`l1_penalty_max`? "
   ]
  },
  {
   "cell_type": "markdown",
   "metadata": {},
   "source": [
    "## Exploring the narrow range of values to find the solution with the right number of non-zeros that has lowest RSS on the validation set \n",
    "\n",
    "We will now explore the narrow region of `l1_penalty` values we found:"
   ]
  },
  {
   "cell_type": "code",
   "execution_count": null,
   "metadata": {
    "collapsed": true
   },
   "outputs": [],
   "source": [
    "l1_penalty_values = np.linspace(l1_penalty_min,l1_penalty_max,20)"
   ]
  },
  {
   "cell_type": "markdown",
   "metadata": {},
   "source": [
    "* For `l1_penalty` in `np.linspace(l1_penalty_min,l1_penalty_max,20)`:\n",
    "    * Fit a regression model with a given `l1_penalty` on TRAIN data. Specify `l1_penalty=l1_penalty` and `l2_penalty=0.` in the parameter list. When you call `linear_regression.create()` make sure you set `validation_set = None`\n",
    "    * Measure the RSS of the learned model on the VALIDATION set\n",
    "\n",
    "Find the model that the lowest RSS on the VALIDATION set and has sparsity *equal* to `max_nonzero`."
   ]
  },
  {
   "cell_type": "code",
   "execution_count": 57,
   "metadata": {
    "collapsed": false
   },
   "outputs": [
    {
     "name": "stdout",
     "output_type": "stream",
     "text": [
      " RSS: 1.06079953176e+15\n",
      "The best model has 7 non zero coefficients, its RSS is on validation 1.04693748875e+15 for a lambda of 3448968612.16\n",
      "+------------------+-------+---------------+--------+\n",
      "|       name       | index |     value     | stderr |\n",
      "+------------------+-------+---------------+--------+\n",
      "|   (intercept)    |  None | 222253.192544 |  None  |\n",
      "|     bedrooms     |  None | 661.722717782 |  None  |\n",
      "| bedrooms_square  |  None |      0.0      |  None  |\n",
      "|    bathrooms     |  None | 15873.9572593 |  None  |\n",
      "|   sqft_living    |  None | 32.4102214513 |  None  |\n",
      "| sqft_living_sqrt |  None | 690.114773313 |  None  |\n",
      "|     sqft_lot     |  None |      0.0      |  None  |\n",
      "|  sqft_lot_sqrt   |  None |      0.0      |  None  |\n",
      "|      floors      |  None |      0.0      |  None  |\n",
      "|  floors_square   |  None |      0.0      |  None  |\n",
      "|    waterfront    |  None |      0.0      |  None  |\n",
      "|       view       |  None |      0.0      |  None  |\n",
      "|    condition     |  None |      0.0      |  None  |\n",
      "|      grade       |  None | 2899.42026975 |  None  |\n",
      "|    sqft_above    |  None | 30.0115753022 |  None  |\n",
      "|  sqft_basement   |  None |      0.0      |  None  |\n",
      "|     yr_built     |  None |      0.0      |  None  |\n",
      "|   yr_renovated   |  None |      0.0      |  None  |\n",
      "+------------------+-------+---------------+--------+\n",
      "[18 rows x 4 columns]\n",
      "\n"
     ]
    }
   ],
   "source": [
    "lowModel=None\n",
    "rss=None\n",
    "flag=True\n",
    "bestPenalty=0\n",
    "for penalty in np.linspace(l1_penalty_min,l1_penalty_max,20):\n",
    "    model=graphlab.linear_regression.create(training, target='price', features=all_features,validation_set=None, l2_penalty=0.,l1_penalty=penalty,verbose=False)\n",
    "    if model[\"coefficients\"][\"value\"].nnz()==max_nonzeros:\n",
    "        predicted = model.predict(validation)                        \n",
    "        rss = ((predicted - validation['price'])**2).sum()\n",
    "        if flag:\n",
    "            minrss=rss\n",
    "            flag=False\n",
    "            lowModel=model\n",
    "            bestPenalty=penalty\n",
    "            \n",
    "        else:\n",
    "            if rss < minrss:\n",
    "                minrss=rss\n",
    "                lowModel=model\n",
    "                bestPenalty=penalty\n",
    "print 'RSS:' ,rss\n",
    "print \"The best model has\", (lowModel['coefficients']['value'].nnz()), \"non zero coefficients, its RSS is on validation\", minrss, \"for a lambda of\", bestPenalty\n",
    "lowModel.coefficients.print_rows(18)\n",
    "        \n",
    "        \n",
    "    \n",
    "    "
   ]
  },
  {
   "cell_type": "markdown",
   "metadata": {},
   "source": [
    "***QUIZ QUESTIONS***\n",
    "1. What value of `l1_penalty` in our narrow range has the lowest RSS on the VALIDATION set and has sparsity *equal* to `max_nonzeros`?\n",
    "2. What features in this model have non-zero coefficients?"
   ]
  },
  {
   "cell_type": "code",
   "execution_count": null,
   "metadata": {
    "collapsed": false
   },
   "outputs": [],
   "source": []
  }
 ],
 "metadata": {
  "kernelspec": {
   "display_name": "Python 2",
   "language": "python",
   "name": "python2"
  },
  "language_info": {
   "codemirror_mode": {
    "name": "ipython",
    "version": 2
   },
   "file_extension": ".py",
   "mimetype": "text/x-python",
   "name": "python",
   "nbconvert_exporter": "python",
   "pygments_lexer": "ipython2",
   "version": "2.7.12"
  }
 },
 "nbformat": 4,
 "nbformat_minor": 0
}
