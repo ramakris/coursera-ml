{
 "cells": [
  {
   "cell_type": "code",
   "execution_count": 2,
   "metadata": {
    "collapsed": true
   },
   "outputs": [],
   "source": [
    "import numpy as np\n"
   ]
  },
  {
   "cell_type": "code",
   "execution_count": 3,
   "metadata": {
    "collapsed": false
   },
   "outputs": [],
   "source": [
    "x1 = np.array([-1.58, 0.91, -0.73, -4.22, 4.19, -0.33])\n",
    "x2 = np.array([-2.01, 3.98, 4.00, 1.16, -2.02, 2.15])"
   ]
  },
  {
   "cell_type": "code",
   "execution_count": 8,
   "metadata": {
    "collapsed": true
   },
   "outputs": [],
   "source": [
    "x = np.vstack((x1, x2)).T"
   ]
  },
  {
   "cell_type": "code",
   "execution_count": 9,
   "metadata": {
    "collapsed": false
   },
   "outputs": [
    {
     "data": {
      "text/plain": [
       "array([[-1.58, -2.01],\n",
       "       [ 0.91,  3.98],\n",
       "       [-0.73,  4.  ],\n",
       "       [-4.22,  1.16],\n",
       "       [ 4.19, -2.02],\n",
       "       [-0.33,  2.15]])"
      ]
     },
     "execution_count": 9,
     "metadata": {},
     "output_type": "execute_result"
    }
   ],
   "source": [
    "x"
   ]
  },
  {
   "cell_type": "code",
   "execution_count": 11,
   "metadata": {
    "collapsed": false
   },
   "outputs": [],
   "source": [
    "x1_midrange = (x1.max() + x1.min())/2"
   ]
  },
  {
   "cell_type": "code",
   "execution_count": 12,
   "metadata": {
    "collapsed": false
   },
   "outputs": [
    {
     "name": "stdout",
     "output_type": "stream",
     "text": [
      "-0.015\n"
     ]
    }
   ],
   "source": [
    "print x1_midrange"
   ]
  },
  {
   "cell_type": "code",
   "execution_count": 13,
   "metadata": {
    "collapsed": true
   },
   "outputs": [],
   "source": [
    "def get_mid_range(data, column=0):\n",
    "    \"\"\" Get midrange of data by column\n",
    "    - x1: column=0\n",
    "    - x2: column=1\n",
    "    \"\"\"\n",
    "    midrange = (data[:, column].max() + data[:, column].min())/2\n",
    "    return midrange      \n",
    "\n",
    "def split_by(x, value, column=0):\n",
    "    \"\"\" Split x array by value and column\n",
    "    - x1: column=0\n",
    "    - x2: column=1\n",
    "    \"\"\"\n",
    "    split1 = x[x[:, column] <= value]\n",
    "    split2 = x[x[:, column] > value]\n",
    "    return split1, split2"
   ]
  },
  {
   "cell_type": "code",
   "execution_count": 14,
   "metadata": {
    "collapsed": false
   },
   "outputs": [
    {
     "data": {
      "text/plain": [
       "array([[-1.58, -2.01],\n",
       "       [-0.73,  4.  ],\n",
       "       [-4.22,  1.16],\n",
       "       [-0.33,  2.15]])"
      ]
     },
     "execution_count": 14,
     "metadata": {},
     "output_type": "execute_result"
    }
   ],
   "source": [
    "x1_midrange = get_mid_range(x)\n",
    "x1_split1, x1_split2 = split_by(x, x1_midrange)\n",
    "\n",
    "# Split values of x1\n",
    "x1_split1"
   ]
  },
  {
   "cell_type": "code",
   "execution_count": 15,
   "metadata": {
    "collapsed": false
   },
   "outputs": [
    {
     "name": "stdout",
     "output_type": "stream",
     "text": [
      "-0.015\n"
     ]
    }
   ],
   "source": [
    "print x1_midrange  ### ANSWER to Question 2"
   ]
  },
  {
   "cell_type": "code",
   "execution_count": 16,
   "metadata": {
    "collapsed": false
   },
   "outputs": [
    {
     "name": "stdout",
     "output_type": "stream",
     "text": [
      "0.995\n"
     ]
    }
   ],
   "source": [
    "# Mid range of x2 for the 1st split\n",
    "# x1_split1_x2_midrange = (x1_split1[:, 1].max() + x1_split1[:, 1].min())/2\n",
    "x1_split1_x2_midrange = get_mid_range(x1_split1, column=1)\n",
    "\n",
    "print x1_split1_x2_midrange #### Answer to Question 3 "
   ]
  },
  {
   "cell_type": "code",
   "execution_count": 17,
   "metadata": {
    "collapsed": false
   },
   "outputs": [
    {
     "name": "stdout",
     "output_type": "stream",
     "text": [
      "0.98\n"
     ]
    }
   ],
   "source": [
    "# # Mid range of x2 for 2nd split\n",
    "x1_split2_x2_midrange = get_mid_range(x1_split2, column=1)\n",
    "print x1_split2_x2_midrange"
   ]
  },
  {
   "cell_type": "code",
   "execution_count": null,
   "metadata": {
    "collapsed": true
   },
   "outputs": [],
   "source": []
  },
  {
   "cell_type": "code",
   "execution_count": null,
   "metadata": {
    "collapsed": true
   },
   "outputs": [],
   "source": []
  }
 ],
 "metadata": {
  "kernelspec": {
   "display_name": "Python 2",
   "language": "python",
   "name": "python2"
  },
  "language_info": {
   "codemirror_mode": {
    "name": "ipython",
    "version": 2
   },
   "file_extension": ".py",
   "mimetype": "text/x-python",
   "name": "python",
   "nbconvert_exporter": "python",
   "pygments_lexer": "ipython2",
   "version": "2.7.12"
  }
 },
 "nbformat": 4,
 "nbformat_minor": 0
}
